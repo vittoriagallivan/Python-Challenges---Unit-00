{
 "cells": [
  {
   "cell_type": "code",
   "execution_count": 2,
   "id": "dominican-russia",
   "metadata": {},
   "outputs": [
    {
     "name": "stdout",
     "output_type": "stream",
     "text": [
      "String Converted\n",
      "Neither of these is a string\n"
     ]
    },
    {
     "data": {
      "text/plain": [
       "'HelloWorld'"
      ]
     },
     "execution_count": 2,
     "metadata": {},
     "output_type": "execute_result"
    }
   ],
   "source": [
    "#1. Define two variables x and y, and design code which does the following:\n",
    "\n",
    "# If both x and y are strings, a new variable z is defined, being x concatenated with y. \n",
    "# Have the code print z.\n",
    "# If one of x or y is a string but the other is not, it converts the one that \n",
    "# isn't into a string, prints \"String Converted\", and then defines z as x concatenated \n",
    "#with y and prints it.\n",
    "# If neither x nor y is a string, it prints \"Neither of these is a string.\"\n",
    "# (Try running it with different kinds of values for x and y.)\n",
    "\n",
    "def string(x, y):\n",
    "    if str(x) and str(y):\n",
    "        z = x + y\n",
    "    else:\n",
    "        print(\"Error\")\n",
    "    return z\n",
    "        \n",
    "\n",
    "def string2(x, y):\n",
    "    if x is not str(x):\n",
    "        x = str(x)\n",
    "    if y is not str(y):\n",
    "        y = str(y)\n",
    "    z = x + y\n",
    "    print(\"String Converted\")\n",
    "    return z \n",
    "\n",
    "def string3(x, y):\n",
    "    if x is not str(x) and y is not str(y):\n",
    "        print(\"Neither of these is a string\")\n",
    "    \n",
    "string2(\"Hello\", 2)\n",
    "string3(2, 2)\n",
    "string(\"Hello\", \"World\")"
   ]
  },
  {
   "cell_type": "code",
   "execution_count": 3,
   "id": "medieval-geology",
   "metadata": {},
   "outputs": [
    {
     "data": {
      "text/plain": [
       "'dlroW'"
      ]
     },
     "execution_count": 3,
     "metadata": {},
     "output_type": "execute_result"
    }
   ],
   "source": [
    "#2. Write a function which takes any string as argument, and returns a new string which \n",
    "#is the original string in the reverse order. If something that isn't a string is given, \n",
    "#have it print an error. Note: while using return x[::-1] would be easy, that's not \n",
    "#the point of this exercise.\n",
    "\n",
    "def reverse(word):\n",
    "    if str(word):\n",
    "        return word[::-1]\n",
    "    else:\n",
    "        print(\"Error\")\n",
    "    \n",
    "reverse(\"World\")"
   ]
  },
  {
   "cell_type": "code",
   "execution_count": 5,
   "id": "bibliographic-register",
   "metadata": {},
   "outputs": [
    {
     "data": {
      "text/plain": [
       "12"
      ]
     },
     "execution_count": 5,
     "metadata": {},
     "output_type": "execute_result"
    }
   ],
   "source": [
    "#3. Write a function which takes in positive integer, and returns the sum of \n",
    "#all of the individual digits. (e.g.: if the function is called digit_sum(), \n",
    "#then digit_sum(132) would return  6 , with the computation  1+3+2=6 ).\n",
    "\n",
    "def digit_sum(n):\n",
    "    total = 0\n",
    "    for x in str(n):\n",
    "        total = total + int(x)\n",
    "    return total\n",
    "\n",
    "digit_sum(345)\n"
   ]
  },
  {
   "cell_type": "code",
   "execution_count": 6,
   "id": "controlled-shade",
   "metadata": {},
   "outputs": [
    {
     "name": "stdout",
     "output_type": "stream",
     "text": [
      "Yes\n"
     ]
    }
   ],
   "source": [
    "#4. For any given positive integer, determine if the number is divisible by 7.\n",
    "\n",
    "def divisible_7(n):\n",
    "    if n%7 == 0:\n",
    "        print(\"Yes\")\n",
    "    else:\n",
    "        print(\"Not divisible by 7\")\n",
    "        \n",
    "divisible_7(14)"
   ]
  },
  {
   "cell_type": "code",
   "execution_count": 7,
   "id": "assisted-joyce",
   "metadata": {},
   "outputs": [
    {
     "data": {
      "text/plain": [
       "'Palindrome'"
      ]
     },
     "execution_count": 7,
     "metadata": {},
     "output_type": "execute_result"
    }
   ],
   "source": [
    "#5. Write a function which takes in a number or a string, and determines if the argument is a \n",
    "# palindrome (i.e.: it's the same if we reverse the order of the characters). \n",
    "#Hint: use question 1.\n",
    "\n",
    "def palindrome(word):\n",
    "    word = word.lower()\n",
    "    if word[::-1] == word:\n",
    "        return \"Palindrome\"\n",
    "    else:\n",
    "        return \"Not palindrome\"\n",
    "    \n",
    "palindrome(\"Anna\")"
   ]
  },
  {
   "cell_type": "code",
   "execution_count": 8,
   "id": "civilian-dependence",
   "metadata": {},
   "outputs": [
    {
     "data": {
      "text/plain": [
       "234168"
      ]
     },
     "execution_count": 8,
     "metadata": {},
     "output_type": "execute_result"
    }
   ],
   "source": [
    "#6. (Bonus Question: Project Euler Problem #1) If we list all the natural numbers below \n",
    "# 10 that are multiples of 3 or 5, we get 3, 5, 6 and 9. The sum of these multiples is 23. \n",
    "#Find the sum of all the multiples of 3 or 5 below 1000.\n",
    "    \n",
    "def euler(n):\n",
    "    sum_3_5 = 0\n",
    "    for x in range(0, n):\n",
    "        if x%3 == 0 or x%5 == 0:\n",
    "            sum_3_5 = sum_3_5 + x\n",
    "    return sum_3_5\n",
    "    \n",
    "euler(1001)"
   ]
  }
 ],
 "metadata": {
  "kernelspec": {
   "display_name": "Python 3",
   "language": "python",
   "name": "python3"
  },
  "language_info": {
   "codemirror_mode": {
    "name": "ipython",
    "version": 3
   },
   "file_extension": ".py",
   "mimetype": "text/x-python",
   "name": "python",
   "nbconvert_exporter": "python",
   "pygments_lexer": "ipython3",
   "version": "3.8.5"
  }
 },
 "nbformat": 4,
 "nbformat_minor": 5
}
